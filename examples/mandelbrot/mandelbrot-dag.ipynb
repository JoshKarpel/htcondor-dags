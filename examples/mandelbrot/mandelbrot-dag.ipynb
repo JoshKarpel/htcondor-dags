{
 "cells": [
  {
   "cell_type": "markdown",
   "metadata": {},
   "source": [
    "# Making an image of the Mandelbrot set using `htcondor-dags`"
   ]
  },
  {
   "cell_type": "markdown",
   "metadata": {},
   "source": [
    "## Making a Mandelbrot set image locally\n",
    "\n",
    "We'll use `goatbrot` (https://github.com/beejjorgensen/goatbrot) to make the image.\n",
    "It can be run from the command line, and takes a series of options to specify which part of the Mandelbrot set to draw, as well as the properties of the image itself.\n",
    "\n",
    "`goatbrot` options:\n",
    "- `-i 1000` The number of iterations.\n",
    "- `-c 0,0` The center point of the image region.\n",
    "- `-w 3` The width of the image region.\n",
    "- `-s 1000,1000` The pixel dimensions of the image.\n",
    "- `-o test.ppm` The name of the output file to generate."
   ]
  },
  {
   "cell_type": "code",
   "execution_count": null,
   "metadata": {},
   "outputs": [],
   "source": [
    "! ./goatbrot -i 1000 -c 0,0 -w 3 -s 1000,1000 -o test.ppm\n",
    "! convert test.ppm test.png"
   ]
  },
  {
   "cell_type": "markdown",
   "metadata": {},
   "source": [
    "## What is the workflow?"
   ]
  },
  {
   "cell_type": "markdown",
   "metadata": {},
   "source": [
    "We can parallelize this calculation by drawing sub-regions of the full region (\"tiles\") we want and stitching them together into a single image using `montage`."
   ]
  },
  {
   "cell_type": "code",
   "execution_count": null,
   "metadata": {},
   "outputs": [],
   "source": [
    "from graphviz import Digraph\n",
    "import itertools\n",
    "\n",
    "num_tiles_per_side = 2\n",
    "\n",
    "dot = Digraph()\n",
    "\n",
    "dot.node('montage')\n",
    "for x, y in itertools.product(range(num_tiles_per_side), repeat = 2):\n",
    "    n = f'tile_{x}-{y}'\n",
    "    dot.node(n)\n",
    "    dot.edge(n, 'montage')\n",
    "\n",
    "dot"
   ]
  },
  {
   "cell_type": "markdown",
   "metadata": {},
   "source": [
    "## Describing `goatbrot` as an HTCondor job\n",
    "\n",
    "We describe a job using a `Submit` object. \n",
    "It corresponds to the submit *file* used by the command line tools.\n",
    "It mostly behaves like a standard Python dictionary."
   ]
  },
  {
   "cell_type": "code",
   "execution_count": null,
   "metadata": {},
   "outputs": [],
   "source": [
    "import htcondor\n",
    "\n",
    "tile_description = htcondor.Submit(\n",
    "    executable = 'goatbrot',\n",
    "    arguments = '-i 10000 -c $(x),$(y) -w $(w) -s 500,500 -o tile_$(tile_x)-$(tile_y).ppm',\n",
    "    log = 'mandelbrot.log',\n",
    "    output = 'goatbrot.out.$(tile_x)_$(tile_y)',\n",
    "    error = 'goatbrot.err.$(tile_x)_$(tile_y)',\n",
    "    request_cpus = '1',\n",
    "    request_memory = '128MB',\n",
    "    request_disk = '1GB',\n",
    ")\n",
    "\n",
    "print(tile_description)"
   ]
  },
  {
   "cell_type": "markdown",
   "metadata": {},
   "source": [
    "Notice the heavy use of macros to specify the tile.\n",
    "Those aren't built-in submit macros; instead, we will plan on passing their values in through **itemdata**.\n",
    "In `htcondor-dags`, itemdata and DAGMan's `VARS` are largely synonymous."
   ]
  },
  {
   "cell_type": "code",
   "execution_count": null,
   "metadata": {},
   "outputs": [],
   "source": [
    "def make_tile_vars(num_tiles_per_side, width = 3):\n",
    "    width_per_tile = width / num_tiles_per_side\n",
    "    \n",
    "    centers = [\n",
    "        width_per_tile * (n + 0.5 - (num_tiles_per_side / 2)) \n",
    "        for n in range(num_tiles_per_side)\n",
    "    ]\n",
    "    \n",
    "    vars = []\n",
    "    for (tile_y, y), (tile_x, x) in itertools.product(enumerate(centers), repeat = 2):\n",
    "        var = dict(\n",
    "            w = width_per_tile,\n",
    "            x = x,\n",
    "            y = -y,\n",
    "            tile_x = str(tile_x).rjust(5, '0'),\n",
    "            tile_y = str(tile_y).rjust(5, '0'),\n",
    "        )\n",
    "        \n",
    "        vars.append(var)\n",
    "        \n",
    "    return vars"
   ]
  },
  {
   "cell_type": "code",
   "execution_count": null,
   "metadata": {},
   "outputs": [],
   "source": [
    "tile_vars = make_tile_vars(2)\n",
    "for var in tile_vars:\n",
    "    print(var)"
   ]
  },
  {
   "cell_type": "markdown",
   "metadata": {},
   "source": [
    "## Describing montage as an HTCondor job\n",
    "\n",
    "Now we can write the `montage` job description. \n",
    "The problem is that the arguments and input files depend on how many tiles we have, which we don't know ahead-of-time.\n",
    "We'll take the brute-force approach of just writing a function that takes the tile `vars` we made in the previous section and using them to build the `montage` job description.\n",
    "\n",
    "This would be a good place for improvements:\n",
    "- Removing duplicated knowledge between the information here and in `make_tile_vars`, like the output filename.\n",
    "- Using fancier submit description magic to handle the input files (although `montage` still cares about the specific order of the files)."
   ]
  },
  {
   "cell_type": "code",
   "execution_count": null,
   "metadata": {},
   "outputs": [],
   "source": [
    "def make_montage_description(tile_vars):\n",
    "    num_tiles_per_side = int(len(tile_vars) ** .5)\n",
    "    \n",
    "    input_files = [f'tile_{d[\"tile_x\"]}-{d[\"tile_y\"]}.ppm' for d in tile_vars]\n",
    "    \n",
    "    return htcondor.Submit(\n",
    "        executable = '/usr/bin/montage',\n",
    "        arguments = f'{\" \".join(input_files)} -mode Concatenate -tile {num_tiles_per_side}x{num_tiles_per_side} mandelbrot.png',\n",
    "        transfer_input_files = ', '.join(input_files),\n",
    "        log = 'mandelbrot.log',\n",
    "        output = 'montage.out',\n",
    "        error = 'montage.err',\n",
    "        request_cpus = '1',\n",
    "        request_memory = '128MB',\n",
    "        request_disk = '1GB',\n",
    "    )"
   ]
  },
  {
   "cell_type": "code",
   "execution_count": null,
   "metadata": {},
   "outputs": [],
   "source": [
    "montage_description = make_montage_description(make_tile_vars(2))\n",
    "\n",
    "print(montage_description)"
   ]
  },
  {
   "cell_type": "markdown",
   "metadata": {},
   "source": [
    "## Describing the DAG using `htcondor-dags`\n",
    "\n",
    "Now that we have the job descriptions, all we have to do is use `htcondor-dags` to tell DAGMan about the dependencies between them.\n",
    "\n",
    "**Important Concept:** the code from `dag = dags.DAG()` onwards only defines the **topology** (or **structure**) of the DAG. \n",
    "The `tile` layer can be flexibly grown or shrunk by adjusting the `tile_vars` without changing the topology, and this can be clearly expressed in the code.\n",
    "The `tile_vars` are driving the creation of the DAG."
   ]
  },
  {
   "cell_type": "code",
   "execution_count": null,
   "metadata": {},
   "outputs": [],
   "source": [
    "import htcondor_dags as dags\n",
    "\n",
    "num_tiles_per_side = 2\n",
    "\n",
    "tile_vars = make_tile_vars(num_tiles_per_side)\n",
    "\n",
    "dag = dags.DAG()\n",
    "\n",
    "tile_layer = dag.layer(\n",
    "    name = 'tile',\n",
    "    submit_description = tile_description,\n",
    "    vars = tile_vars,\n",
    ")\n",
    "\n",
    "montage_layer = tile_layer.child(\n",
    "    name = 'montage',\n",
    "    submit_description = make_montage_description(tile_vars),\n",
    ")"
   ]
  },
  {
   "cell_type": "code",
   "execution_count": null,
   "metadata": {},
   "outputs": [],
   "source": [
    "print(dag.describe())"
   ]
  },
  {
   "cell_type": "markdown",
   "metadata": {},
   "source": [
    "## Write the DAG to disk\n",
    "\n",
    "We still need to write the DAG to disk to get DAGMan to work with it."
   ]
  },
  {
   "cell_type": "code",
   "execution_count": null,
   "metadata": {},
   "outputs": [],
   "source": [
    "from pathlib import Path\n",
    "import shutil\n",
    "\n",
    "dag_dir = Path('mandelbrot-dag').absolute()\n",
    "\n",
    "# blow away any old stuff\n",
    "shutil.rmtree(dag_dir, ignore_errors = True)\n",
    "\n",
    "dag_file = dag.write(dag_dir)\n",
    "shutil.copy2('goatbrot', dag_dir)\n",
    "\n",
    "print('DAG directory:', dag_dir)\n",
    "print('DAG file:', dag_file)"
   ]
  },
  {
   "cell_type": "markdown",
   "metadata": {},
   "source": [
    "## Submit the DAG via the bindings\n",
    "\n",
    "Since `8.9.3`, we can now do the equivalent of `condor_submit_dag` from the Python bindings!  "
   ]
  },
  {
   "cell_type": "code",
   "execution_count": null,
   "metadata": {},
   "outputs": [],
   "source": [
    "dag_submit = htcondor.Submit.from_dag(str(dag_file), {'force': 1})\n",
    "\n",
    "print(dag_submit)"
   ]
  },
  {
   "cell_type": "code",
   "execution_count": null,
   "metadata": {},
   "outputs": [],
   "source": [
    "import os\n",
    "os.chdir(dag_dir)\n",
    "\n",
    "schedd = htcondor.Schedd()\n",
    "with schedd.transaction() as txn:\n",
    "    cluster_id = dag_submit.queue(txn)\n",
    "    \n",
    "print(cluster_id)\n",
    "\n",
    "os.chdir('..')"
   ]
  },
  {
   "cell_type": "markdown",
   "metadata": {},
   "source": [
    "For crude progress tracking, we can just tail the DAGMan log:"
   ]
  },
  {
   "cell_type": "code",
   "execution_count": null,
   "metadata": {},
   "outputs": [],
   "source": [
    "! tail -f mandelbrot-dag/dagfile.dag.dagman.out"
   ]
  },
  {
   "cell_type": "code",
   "execution_count": null,
   "metadata": {},
   "outputs": [],
   "source": []
  }
 ],
 "metadata": {
  "kernelspec": {
   "display_name": "Python 3",
   "language": "python",
   "name": "python3"
  },
  "language_info": {
   "codemirror_mode": {
    "name": "ipython",
    "version": 3
   },
   "file_extension": ".py",
   "mimetype": "text/x-python",
   "name": "python",
   "nbconvert_exporter": "python",
   "pygments_lexer": "ipython3",
   "version": "3.7.3"
  }
 },
 "nbformat": 4,
 "nbformat_minor": 4
}
