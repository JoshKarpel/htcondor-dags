{
 "cells": [
  {
   "cell_type": "markdown",
   "metadata": {},
   "source": [
    "# Making an image of the Mandelbrot set using `htcondor-dags`"
   ]
  },
  {
   "cell_type": "markdown",
   "metadata": {},
   "source": [
    "## The shape of the workflow"
   ]
  },
  {
   "cell_type": "code",
   "execution_count": null,
   "metadata": {},
   "outputs": [],
   "source": [
    "from graphviz import Digraph\n",
    "import itertools\n",
    "\n",
    "num_tiles_per_side = 2\n",
    "\n",
    "dot = Digraph()\n",
    "\n",
    "dot.node('montage')\n",
    "for x, y in itertools.product(range(num_tiles_per_side), repeat = 2):\n",
    "    n = f'tile_{x}-{y}'\n",
    "    dot.node(n)\n",
    "    dot.edge(n, 'montage')\n",
    "\n",
    "dot"
   ]
  },
  {
   "cell_type": "markdown",
   "metadata": {},
   "source": [
    "## Running `goatbrot` locally"
   ]
  },
  {
   "cell_type": "markdown",
   "metadata": {},
   "source": [
    "`goatbrot` options:\n",
    "- `-i 1000` The number of iterations.\n",
    "- `-o test.ppm` The name of the output file to generate.\n",
    "- `-c 0,0` The center point of the image region.\n",
    "- `-w 3` The width of the image region.\n",
    "- `-s 1000,1000` The pixel dimensions of the final image."
   ]
  },
  {
   "cell_type": "code",
   "execution_count": null,
   "metadata": {},
   "outputs": [],
   "source": [
    "! ./goatbrot -i 1000 -c 0,0 -w 3 -s 1000,1000 -o test.ppm\n",
    "! convert test.ppm test.png"
   ]
  },
  {
   "cell_type": "markdown",
   "metadata": {},
   "source": [
    "## Describing `goatbrot` as an HTCondor job"
   ]
  },
  {
   "cell_type": "code",
   "execution_count": null,
   "metadata": {},
   "outputs": [],
   "source": [
    "import htcondor\n",
    "\n",
    "tile_description = htcondor.Submit(\n",
    "    executable = 'goatbrot',\n",
    "    arguments = '-i 1000 -c $(x),$(y) -w $(w) -s 500,500 -o tile_$(tile_x)-$(tile_y).ppm',\n",
    "    log = 'mandelbrot.log',\n",
    "    output = 'goatbrot.out.$(tile_x)_$(tile_y)',\n",
    "    error = 'goatbrot.err.$(tile_x)_$(tile_y)',\n",
    "    request_cpus = '1',\n",
    "    request_memory = '128MB',\n",
    "    request_disk = '1GB',\n",
    ")\n",
    "\n",
    "print(tile_description)"
   ]
  },
  {
   "cell_type": "code",
   "execution_count": null,
   "metadata": {},
   "outputs": [],
   "source": [
    "def make_tile_vars(num_tiles_per_side, width = 3):\n",
    "    width_per_tile = width / num_tiles_per_side\n",
    "    \n",
    "    centers = [\n",
    "        width_per_tile * (n + 0.5 - (num_tiles_per_side / 2)) \n",
    "        for n in range(num_tiles_per_side)\n",
    "    ]\n",
    "    \n",
    "    vars = []\n",
    "    for (tile_y, y), (tile_x, x) in itertools.product(enumerate(centers), repeat = 2):\n",
    "        var = dict(\n",
    "            w = width_per_tile,\n",
    "            x = x,\n",
    "            y = -y,\n",
    "            tile_x = str(tile_x).rjust(5, '0'),\n",
    "            tile_y = str(tile_y).rjust(5, '0'),\n",
    "        )\n",
    "        \n",
    "        vars.append(var)\n",
    "        \n",
    "    return vars"
   ]
  },
  {
   "cell_type": "code",
   "execution_count": null,
   "metadata": {},
   "outputs": [],
   "source": [
    "tile_vars = make_tile_vars(2)\n",
    "for var in tile_vars:\n",
    "    print(var)"
   ]
  },
  {
   "cell_type": "markdown",
   "metadata": {},
   "source": [
    "## Describing montage as an HTCondor job"
   ]
  },
  {
   "cell_type": "code",
   "execution_count": null,
   "metadata": {},
   "outputs": [],
   "source": [
    "def make_montage_description(tile_vars):\n",
    "    num_tiles_per_side = int(len(tile_vars) ** .5)\n",
    "    \n",
    "    input_files = [f'tile_{d[\"tile_x\"]}-{d[\"tile_y\"]}.ppm' for d in tile_vars]\n",
    "    \n",
    "    return htcondor.Submit(\n",
    "        executable = '/usr/bin/montage',\n",
    "        arguments = f'{\" \".join(input_files)} -mode Concatenate -tile {num_tiles_per_side}x{num_tiles_per_side} mandelbrot.png',\n",
    "        transfer_input_files = ', '.join(input_files),\n",
    "        log = 'mandelbrot.log',\n",
    "        output = 'montage.out',\n",
    "        error = 'montage.err',\n",
    "        request_cpus = '1',\n",
    "        request_memory = '128MB',\n",
    "        request_disk = '1GB',\n",
    "    )"
   ]
  },
  {
   "cell_type": "code",
   "execution_count": null,
   "metadata": {},
   "outputs": [],
   "source": [
    "montage_description = make_montage_description(make_tile_vars(2))\n",
    "\n",
    "print(montage_description)"
   ]
  },
  {
   "cell_type": "markdown",
   "metadata": {},
   "source": [
    "## Describing the DAG using `htcondor-dags`"
   ]
  },
  {
   "cell_type": "code",
   "execution_count": null,
   "metadata": {},
   "outputs": [],
   "source": [
    "import htcondor_dags as dags\n",
    "\n",
    "num_tiles_per_side = 10\n",
    "\n",
    "tile_vars = make_tile_vars(num_tiles_per_side)\n",
    "\n",
    "dag = dags.DAG()\n",
    "\n",
    "tile_layer = dag.layer(\n",
    "    name = 'tile',\n",
    "    submit_description = tile_description,\n",
    "    vars = tile_vars,\n",
    ")\n",
    "\n",
    "montage_layer = tile_layer.child(\n",
    "    name = 'montage',\n",
    "    submit_description = make_montage_description(tile_vars),\n",
    ")"
   ]
  },
  {
   "cell_type": "code",
   "execution_count": null,
   "metadata": {},
   "outputs": [],
   "source": [
    "print(dag.describe())"
   ]
  },
  {
   "cell_type": "markdown",
   "metadata": {},
   "source": [
    "## Write the DAG to disk"
   ]
  },
  {
   "cell_type": "code",
   "execution_count": null,
   "metadata": {},
   "outputs": [],
   "source": [
    "from pathlib import Path\n",
    "import shutil\n",
    "\n",
    "dag_dir = Path('mandelbrot-dag').absolute()\n",
    "\n",
    "shutil.rmtree(dag_dir)\n",
    "\n",
    "dag_file = dag.write(dag_dir)\n",
    "shutil.copy2('goatbrot', dag_dir)\n",
    "\n",
    "print('DAG directory:', dag_dir)\n",
    "print('DAG file:', dag_file)"
   ]
  },
  {
   "cell_type": "markdown",
   "metadata": {},
   "source": [
    "## Submit the DAG via the bindings"
   ]
  },
  {
   "cell_type": "code",
   "execution_count": null,
   "metadata": {},
   "outputs": [],
   "source": [
    "dag_submit = htcondor.Submit.from_dag(str(dag_file), {'force': 1})\n",
    "\n",
    "print(dag_submit)"
   ]
  },
  {
   "cell_type": "code",
   "execution_count": null,
   "metadata": {},
   "outputs": [],
   "source": [
    "import os\n",
    "os.chdir(dag_dir)\n",
    "\n",
    "schedd = htcondor.Schedd()\n",
    "with schedd.transaction() as txn:\n",
    "    cluster_id = dag_submit.queue(txn)\n",
    "    \n",
    "print(cluster_id)\n",
    "os.chdir('..')"
   ]
  },
  {
   "cell_type": "code",
   "execution_count": null,
   "metadata": {},
   "outputs": [],
   "source": [
    "! tail -f mandelbrot-dag/dagfile.dag.dagman.out"
   ]
  },
  {
   "cell_type": "code",
   "execution_count": null,
   "metadata": {},
   "outputs": [],
   "source": []
  }
 ],
 "metadata": {
  "kernelspec": {
   "display_name": "Python 3",
   "language": "python",
   "name": "python3"
  },
  "language_info": {
   "codemirror_mode": {
    "name": "ipython",
    "version": 3
   },
   "file_extension": ".py",
   "mimetype": "text/x-python",
   "name": "python",
   "nbconvert_exporter": "python",
   "pygments_lexer": "ipython3",
   "version": "3.7.3"
  }
 },
 "nbformat": 4,
 "nbformat_minor": 4
}
